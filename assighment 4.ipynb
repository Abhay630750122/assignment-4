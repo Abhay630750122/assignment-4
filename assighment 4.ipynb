{
 "cells": [
  {
   "cell_type": "code",
   "execution_count": 1,
   "id": "e2fbf7d3-b317-4833-aed5-d8bc74145367",
   "metadata": {},
   "outputs": [
    {
     "name": "stdout",
     "output_type": "stream",
     "text": [
      "John is walking.\n",
      "Jane is talking.\n"
     ]
    }
   ],
   "source": [
    "#  In Object-Oriented Programming (OOP), a class is a blueprint or a template that defines the attributes and behaviors of objects. An object, on the other hand, is an instance of a class that contains actual values for the attributes defined in the class and can perform the behaviors defined in the class.\n",
    "\n",
    "# For example, let's consider a class called \"Person\" that defines the attributes and behaviors of a person. The attributes of a person could include their name, age, gender, height, and weight, while the behaviors could include walking, talking, eating, and sleeping.\n",
    "\n",
    "#  To create an object of the Person class, we need to first instantiate the class. We can do this by creating an instance of the Person class, like so:\n",
    "\n",
    "class Person:\n",
    "    def __init__(self, name, age, gender, height, weight):\n",
    "        self.name = name\n",
    "        self.age = age\n",
    "        self.gender = gender\n",
    "        self.height = height\n",
    "        self.weight = weight\n",
    "\n",
    "    def walk(self):\n",
    "        print(f\"{self.name} is walking.\")\n",
    "\n",
    "    def talk(self):\n",
    "        print(f\"{self.name} is talking.\")\n",
    "\n",
    "person1 = Person(\"John\", 25, \"male\", 6.0, 70)\n",
    "person2 = Person(\"Jane\", 30, \"female\", 5.5, 60)\n",
    "\n",
    "person1.walk()  # Output: John is walking.\n",
    "person2.talk()  # Output: Jane is talking.\n",
    "\n",
    "# In this example, we defined the Person class with the init method that initializes the attributes of the class. We also defined two behaviors or methods, walk() and talk(), that the object can perform.\n",
    "\n",
    "# We then created two objects or instances of the Person class, person1 and person2, with different attribute values. We can access the attributes and behaviors of these objects by using the dot notation. For example, person1.walk() calls the walk() method of the person1 object, and person2.talk() calls the talk() method of the person2 object."
   ]
  },
  {
   "cell_type": "code",
   "execution_count": 2,
   "id": "eee2d5f0-94dc-4224-b360-ad4adb85d51f",
   "metadata": {},
   "outputs": [],
   "source": [
    "#  The four pillars of Object-Oriented Programming (OOPs) are:\n",
    "\n",
    "# Encapsulation: It is the practice of hiding the internal details of an object from the outside world and exposing only the necessary information or behavior through well-defined interfaces. Encapsulation provides data security and improves the maintainability of code.\n",
    "\n",
    "# Abstraction: It is the process of simplifying complex real-world problems by modeling them with objects and classes. Abstraction provides a high-level view of an object and allows us to focus on its essential features.\n",
    "\n",
    "# Inheritance: It is a mechanism by which a new class can be created from an existing class. The new class inherits the properties and behavior of the existing class, and can also add its own unique properties and behavior. Inheritance provides code reusability and makes it easier to create and maintain complex software systems.\n",
    "\n",
    "# Polymorphism: It is the ability of objects to take on multiple forms. Polymorphism allows objects to behave differently based on the context in which they are used. It enables us to write more flexible and extensible code."
   ]
  },
  {
   "cell_type": "code",
   "execution_count": 6,
   "id": "051ec00c-e4f3-4a65-8afa-d2e626e322a7",
   "metadata": {},
   "outputs": [
    {
     "name": "stdout",
     "output_type": "stream",
     "text": [
      "2022 Toyota Corolla\n",
      "This car has 5000 miles on it.\n"
     ]
    }
   ],
   "source": [
    "#  The __init__() function is a special method or constructor in Python classes. It is used to initialize the object's attributes when an instance of the class is created. The __init__() method is called automatically when we create an object of the class.\n",
    "\n",
    "# The __init__() method takes at least one argument, which is usually called self. self represents the object being created, and it is used to access the object's attributes and methods. Other arguments can also be passed to the __init__() method to initialize the object's attributes.\n",
    "\n",
    "class Car:\n",
    "    def __init__(self, make, model, year):\n",
    "        self.make = make\n",
    "        self.model = model\n",
    "        self.year = year\n",
    "        self.odometer_reading = 0\n",
    "\n",
    "    def get_description(self):\n",
    "        return f\"{self.year} {self.make} {self.model}\"\n",
    "\n",
    "    def read_odometer(self):\n",
    "        return f\"This car has {self.odometer_reading} miles on it.\"\n",
    "\n",
    "    def update_odometer(self, mileage):\n",
    "        if mileage > self.odometer_reading:\n",
    "            self.odometer_reading = mileage\n",
    "        else:\n",
    "            print(\"You can't roll back an odometer!\")\n",
    "my_car = Car(\"Toyota\", \"Corolla\", 2022)\n",
    "print(my_car.get_description()) \n",
    "my_car.update_odometer(5000)\n",
    "print(my_car.read_odometer())  # Output: This car has 5000 miles on it.\n"
   ]
  },
  {
   "cell_type": "code",
   "execution_count": 9,
   "id": "74ffd791-36f9-4fd1-979f-28554532e7e2",
   "metadata": {},
   "outputs": [
    {
     "name": "stdout",
     "output_type": "stream",
     "text": [
      "My name is ABHAY and I am 20 years old.\n"
     ]
    }
   ],
   "source": [
    "#  In Object-Oriented Programming (OOPs), self is a reference to the current instance of a class. It is a special variable that is passed as the first argument to all instance methods in a class. The self variable allows us to access the instance variables and methods of an object.\n",
    "\n",
    "# When we create an object of a class, Python automatically passes the object as the self argument to the __init__() method. This allows us to initialize the object's attributes and create the object's state. For example, consider the following class:\n",
    "\n",
    "class Person:\n",
    "    def __init__(self, name, age):\n",
    "        self.name = name\n",
    "        self.age = age\n",
    "\n",
    "    def describe(self):\n",
    "        print(f\"My name is {self.name} and I am {self.age} years old.\")\n",
    "\n",
    "person1 = Person(\"ABHAY\", 20)\n",
    "person1.describe()\n"
   ]
  },
  {
   "cell_type": "code",
   "execution_count": 10,
   "id": "6dd0ac1f-1ce6-4893-b436-57e062f841b6",
   "metadata": {},
   "outputs": [
    {
     "name": "stdout",
     "output_type": "stream",
     "text": [
      "Buddy says woof\n",
      "Tesla Model S\n",
      "This vehicle can go 300 miles on a single charge\n",
      "Buddy says woof\n"
     ]
    }
   ],
   "source": [
    "#  Inheritance is a mechanism in Object-Oriented Programming (OOPs) where a new class is derived from an existing class. The new class, called the derived class or subclass, inherits the properties and methods of the existing class, called the base class or superclass. This allows the subclass to reuse the code and behavior of the superclass and also add its own properties and methods.\n",
    "\n",
    "# There are four types of inheritance in Python:\n",
    "\n",
    "# Single inheritance: In single inheritance, a subclass is derived from a single base class.\n",
    "\n",
    "class Animal:\n",
    "    def __init__(self, name, sound):\n",
    "        self.name = name\n",
    "        self.sound = sound\n",
    "\n",
    "    def make_sound(self):\n",
    "        print(f\"{self.name} says {self.sound}\")\n",
    "\n",
    "class Dog(Animal):\n",
    "    def __init__(self, name):\n",
    "        super().__init__(name, \"woof\")\n",
    "\n",
    "dog1 = Dog(\"Buddy\")\n",
    "dog1.make_sound()  # Output: Buddy says woof\n",
    "\n",
    "#  Multiple inheritance: In multiple inheritance, a subclass is derived from multiple base classes.\n",
    "\n",
    "class Vehicle:\n",
    "    def __init__(self, make, model):\n",
    "        self.make = make\n",
    "        self.model = model\n",
    "\n",
    "    def get_description(self):\n",
    "        return f\"{self.make} {self.model}\"\n",
    "\n",
    "class Electric:\n",
    "    def __init__(self, range):\n",
    "        self.range = range\n",
    "\n",
    "    def get_range(self):\n",
    "        return f\"This vehicle can go {self.range} miles on a single charge\"\n",
    "\n",
    "class ElectricCar(Vehicle, Electric):\n",
    "    def __init__(self, make, model, range):\n",
    "        Vehicle.__init__(self, make, model)\n",
    "        Electric.__init__(self, range)\n",
    "\n",
    "my_car = ElectricCar(\"Tesla\", \"Model S\", 300)\n",
    "print(my_car.get_description())  # Output: Tesla Model S\n",
    "print(my_car.get_range())  # Output: This vehicle can go 300 miles on a single charge\n",
    "\n",
    "#  Hierarchical inheritance: In hierarchical inheritance, multiple subclasses are derived from a single base class.\n",
    "\n",
    "class Animal:\n",
    "    def __init__(self, name):\n",
    "        self.name = name\n",
    "\n",
    "    def make_sound(self):\n",
    "        pass\n",
    "\n",
    "class Dog(Animal):\n",
    "    def __init__(self, name):\n",
    "        super().__init__(name)\n",
    "\n",
    "    def make_sound(self):\n",
    "        print(f\"{self.name} says woof\")\n",
    "\n",
    "class Cat(Animal):\n",
    "    def __init__(self, name):\n",
    "        super().__init__(name)\n",
    "\n",
    "    def make_sound(self):\n",
    "        print(f\"{self.name} says meow\")\n",
    "\n",
    "dog1 = Dog(\"Buddy\")\n",
    "dog1.make_sound()  # Output: Buddy says woof\n",
    "\n",
    "cat1 = Cat\n"
   ]
  }
 ],
 "metadata": {
  "kernelspec": {
   "display_name": "Python 3 (ipykernel)",
   "language": "python",
   "name": "python3"
  },
  "language_info": {
   "codemirror_mode": {
    "name": "ipython",
    "version": 3
   },
   "file_extension": ".py",
   "mimetype": "text/x-python",
   "name": "python",
   "nbconvert_exporter": "python",
   "pygments_lexer": "ipython3",
   "version": "3.10.8"
  }
 },
 "nbformat": 4,
 "nbformat_minor": 5
}
